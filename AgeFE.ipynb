{
 "cells": [
  {
   "cell_type": "markdown",
   "id": "456cacbf-53c7-46dd-be56-329b70a3c9cc",
   "metadata": {},
   "source": [
    "# For Age "
   ]
  },
  {
   "cell_type": "code",
   "execution_count": 1,
   "id": "ac238bfb-d012-4909-ac37-1ef7062f17fb",
   "metadata": {},
   "outputs": [],
   "source": [
    "import numpy as np\n",
    "import pandas as pd \n",
    "import tensorflow as tf\n",
    "import tensorflow.keras as ks\n",
    "\n",
    "#unsupervised:\n",
    "from sklearn.cluster import KMeans\n",
    "#transformers:\n",
    "from sklearn.preprocessing import OneHotEncoder, TargetEncoder\n",
    "from sklearn.base import BaseEstimator, TransformerMixin\n",
    "import scipy.stats as st\n",
    "\n",
    "import matplotlib.pyplot as plt\n",
    "import matplotlib.colors as mcolors\n",
    "\n",
    "#Note: train data has 13 feature column and 1 binary label for a total of 14 columns"
   ]
  },
  {
   "cell_type": "code",
   "execution_count": 2,
   "id": "be80e1f5-2c71-49ac-b6a5-283a85ea3ed4",
   "metadata": {},
   "outputs": [],
   "source": [
    "train = pd.read_csv(\"train.csv\")"
   ]
  },
  {
   "cell_type": "code",
   "execution_count": 3,
   "id": "79cab270-cb6d-432e-a46a-96f897462e2e",
   "metadata": {},
   "outputs": [
    {
     "data": {
      "text/html": [
       "<div>\n",
       "<style scoped>\n",
       "    .dataframe tbody tr th:only-of-type {\n",
       "        vertical-align: middle;\n",
       "    }\n",
       "\n",
       "    .dataframe tbody tr th {\n",
       "        vertical-align: top;\n",
       "    }\n",
       "\n",
       "    .dataframe thead th {\n",
       "        text-align: right;\n",
       "    }\n",
       "</style>\n",
       "<table border=\"1\" class=\"dataframe\">\n",
       "  <thead>\n",
       "    <tr style=\"text-align: right;\">\n",
       "      <th></th>\n",
       "      <th>id</th>\n",
       "      <th>CustomerId</th>\n",
       "      <th>Surname</th>\n",
       "      <th>CreditScore</th>\n",
       "      <th>Geography</th>\n",
       "      <th>Gender</th>\n",
       "      <th>Age</th>\n",
       "      <th>Tenure</th>\n",
       "      <th>Balance</th>\n",
       "      <th>NumOfProducts</th>\n",
       "      <th>HasCrCard</th>\n",
       "      <th>IsActiveMember</th>\n",
       "      <th>EstimatedSalary</th>\n",
       "      <th>Exited</th>\n",
       "    </tr>\n",
       "  </thead>\n",
       "  <tbody>\n",
       "    <tr>\n",
       "      <th>0</th>\n",
       "      <td>0</td>\n",
       "      <td>15674932</td>\n",
       "      <td>Okwudilichukwu</td>\n",
       "      <td>668</td>\n",
       "      <td>France</td>\n",
       "      <td>Male</td>\n",
       "      <td>33.0</td>\n",
       "      <td>3</td>\n",
       "      <td>0.00</td>\n",
       "      <td>2</td>\n",
       "      <td>1.0</td>\n",
       "      <td>0.0</td>\n",
       "      <td>181449.97</td>\n",
       "      <td>0</td>\n",
       "    </tr>\n",
       "    <tr>\n",
       "      <th>1</th>\n",
       "      <td>1</td>\n",
       "      <td>15749177</td>\n",
       "      <td>Okwudiliolisa</td>\n",
       "      <td>627</td>\n",
       "      <td>France</td>\n",
       "      <td>Male</td>\n",
       "      <td>33.0</td>\n",
       "      <td>1</td>\n",
       "      <td>0.00</td>\n",
       "      <td>2</td>\n",
       "      <td>1.0</td>\n",
       "      <td>1.0</td>\n",
       "      <td>49503.50</td>\n",
       "      <td>0</td>\n",
       "    </tr>\n",
       "    <tr>\n",
       "      <th>2</th>\n",
       "      <td>2</td>\n",
       "      <td>15694510</td>\n",
       "      <td>Hsueh</td>\n",
       "      <td>678</td>\n",
       "      <td>France</td>\n",
       "      <td>Male</td>\n",
       "      <td>40.0</td>\n",
       "      <td>10</td>\n",
       "      <td>0.00</td>\n",
       "      <td>2</td>\n",
       "      <td>1.0</td>\n",
       "      <td>0.0</td>\n",
       "      <td>184866.69</td>\n",
       "      <td>0</td>\n",
       "    </tr>\n",
       "    <tr>\n",
       "      <th>3</th>\n",
       "      <td>3</td>\n",
       "      <td>15741417</td>\n",
       "      <td>Kao</td>\n",
       "      <td>581</td>\n",
       "      <td>France</td>\n",
       "      <td>Male</td>\n",
       "      <td>34.0</td>\n",
       "      <td>2</td>\n",
       "      <td>148882.54</td>\n",
       "      <td>1</td>\n",
       "      <td>1.0</td>\n",
       "      <td>1.0</td>\n",
       "      <td>84560.88</td>\n",
       "      <td>0</td>\n",
       "    </tr>\n",
       "  </tbody>\n",
       "</table>\n",
       "</div>"
      ],
      "text/plain": [
       "   id  CustomerId         Surname  CreditScore Geography Gender   Age  Tenure  \\\n",
       "0   0    15674932  Okwudilichukwu          668    France   Male  33.0       3   \n",
       "1   1    15749177   Okwudiliolisa          627    France   Male  33.0       1   \n",
       "2   2    15694510           Hsueh          678    France   Male  40.0      10   \n",
       "3   3    15741417             Kao          581    France   Male  34.0       2   \n",
       "\n",
       "     Balance  NumOfProducts  HasCrCard  IsActiveMember  EstimatedSalary  \\\n",
       "0       0.00              2        1.0             0.0        181449.97   \n",
       "1       0.00              2        1.0             1.0         49503.50   \n",
       "2       0.00              2        1.0             0.0        184866.69   \n",
       "3  148882.54              1        1.0             1.0         84560.88   \n",
       "\n",
       "   Exited  \n",
       "0       0  \n",
       "1       0  \n",
       "2       0  \n",
       "3       0  "
      ]
     },
     "execution_count": 3,
     "metadata": {},
     "output_type": "execute_result"
    }
   ],
   "source": [
    "train.head(4)"
   ]
  },
  {
   "cell_type": "code",
   "execution_count": 4,
   "id": "a519ff95-10ee-4558-a37f-d78c9df3b994",
   "metadata": {},
   "outputs": [
    {
     "data": {
      "text/plain": [
       "(165034, 14)"
      ]
     },
     "execution_count": 4,
     "metadata": {},
     "output_type": "execute_result"
    }
   ],
   "source": [
    "train.shape"
   ]
  },
  {
   "cell_type": "code",
   "execution_count": 5,
   "id": "be6f58d5-ec02-430b-b07e-6eccfaaf5313",
   "metadata": {},
   "outputs": [
    {
     "data": {
      "text/plain": [
       "count    165034.000000\n",
       "mean         38.125888\n",
       "std           8.867205\n",
       "min          18.000000\n",
       "25%          32.000000\n",
       "50%          37.000000\n",
       "75%          42.000000\n",
       "max          92.000000\n",
       "Name: Age, dtype: float64"
      ]
     },
     "execution_count": 5,
     "metadata": {},
     "output_type": "execute_result"
    }
   ],
   "source": [
    "train.Age.describe()"
   ]
  },
  {
   "cell_type": "code",
   "execution_count": 13,
   "id": "88f2db5b-c3d6-4d6e-9c7d-23e91f9d1f38",
   "metadata": {},
   "outputs": [
    {
     "data": {
      "image/png": "[encoded data removed]",
      "text/plain": [
       "<Figure size 640x480 with 1 Axes>"
      ]
     },
     "metadata": {},
     "output_type": "display_data"
    }
   ],
   "source": [
    "plt.hist(train.Age)\n",
    "plt.show()"
   ]
  },
  {
   "cell_type": "code",
   "execution_count": 15,
   "id": "2a1d8008-356c-44ff-a953-8e4c141b7501",
   "metadata": {},
   "outputs": [
    {
     "data": {
      "image/png": "[encoded data removed]",
      "text/plain": [
       "<Figure size 640x480 with 1 Axes>"
      ]
     },
     "metadata": {},
     "output_type": "display_data"
    }
   ],
   "source": [
    "plt.hist(np.log(train.Age))\n",
    "plt.show()"
   ]
  },
  {
   "cell_type": "code",
   "execution_count": null,
   "id": "29e75b54-34dc-4449-856b-113f00f30dd3",
   "metadata": {},
   "outputs": [],
   "source": [
    "# log the age and divide it:\n"
   ]
  },
  {
   "cell_type": "code",
   "execution_count": 7,
   "id": "6993e7dd-4ef2-4834-b4fa-b6cd1795d724",
   "metadata": {},
   "outputs": [],
   "source": [
    "bin_division = [0,20,30,40,50,60,100]\n",
    "age = pd.cut(train.Age, bins = bin_division)"
   ]
  },
  {
   "cell_type": "code",
   "execution_count": 8,
   "id": "4b328854-1af3-4f11-ae7c-c3a72439e394",
   "metadata": {},
   "outputs": [
    {
     "data": {
      "text/plain": [
       "array([[0.12038585],\n",
       "       [0.12038585],\n",
       "       [0.12038585],\n",
       "       ...,\n",
       "       [0.12038585],\n",
       "       [0.08262326],\n",
       "       [0.12038585]])"
      ]
     },
     "execution_count": 8,
     "metadata": {},
     "output_type": "execute_result"
    }
   ],
   "source": [
    "a = np.array(age).reshape(-1,1)\n",
    "y = np.array(train.Exited)\n",
    "tt = TargetEncoder()\n",
    "tt.fit(a,y)\n",
    "tt.transform(a)"
   ]
  },
  {
   "cell_type": "code",
   "execution_count": 9,
   "id": "ace0e133-0fbf-403f-9857-b5ec13c0614c",
   "metadata": {},
   "outputs": [
    {
     "data": {
      "text/html": [
       "<div>\n",
       "<style scoped>\n",
       "    .dataframe tbody tr th:only-of-type {\n",
       "        vertical-align: middle;\n",
       "    }\n",
       "\n",
       "    .dataframe tbody tr th {\n",
       "        vertical-align: top;\n",
       "    }\n",
       "\n",
       "    .dataframe thead th {\n",
       "        text-align: right;\n",
       "    }\n",
       "</style>\n",
       "<table border=\"1\" class=\"dataframe\">\n",
       "  <thead>\n",
       "    <tr style=\"text-align: right;\">\n",
       "      <th></th>\n",
       "      <th>Age</th>\n",
       "      <th>Exited</th>\n",
       "    </tr>\n",
       "  </thead>\n",
       "  <tbody>\n",
       "    <tr>\n",
       "      <th>0</th>\n",
       "      <td>(30, 40]</td>\n",
       "      <td>0</td>\n",
       "    </tr>\n",
       "    <tr>\n",
       "      <th>1</th>\n",
       "      <td>(30, 40]</td>\n",
       "      <td>0</td>\n",
       "    </tr>\n",
       "    <tr>\n",
       "      <th>2</th>\n",
       "      <td>(30, 40]</td>\n",
       "      <td>0</td>\n",
       "    </tr>\n",
       "    <tr>\n",
       "      <th>3</th>\n",
       "      <td>(30, 40]</td>\n",
       "      <td>0</td>\n",
       "    </tr>\n",
       "    <tr>\n",
       "      <th>4</th>\n",
       "      <td>(30, 40]</td>\n",
       "      <td>0</td>\n",
       "    </tr>\n",
       "  </tbody>\n",
       "</table>\n",
       "</div>"
      ],
      "text/plain": [
       "        Age  Exited\n",
       "0  (30, 40]       0\n",
       "1  (30, 40]       0\n",
       "2  (30, 40]       0\n",
       "3  (30, 40]       0\n",
       "4  (30, 40]       0"
      ]
     },
     "execution_count": 9,
     "metadata": {},
     "output_type": "execute_result"
    }
   ],
   "source": [
    "z = pd.merge(age,train.Exited, left_index = True, right_index = True)\n",
    "z.head()"
   ]
  },
  {
   "cell_type": "code",
   "execution_count": 10,
   "id": "92af2f59-0888-46ad-88f3-84b100b3da51",
   "metadata": {},
   "outputs": [
    {
     "data": {
      "text/html": [
       "<div>\n",
       "<style scoped>\n",
       "    .dataframe tbody tr th:only-of-type {\n",
       "        vertical-align: middle;\n",
       "    }\n",
       "\n",
       "    .dataframe tbody tr th {\n",
       "        vertical-align: top;\n",
       "    }\n",
       "\n",
       "    .dataframe thead th {\n",
       "        text-align: right;\n",
       "    }\n",
       "</style>\n",
       "<table border=\"1\" class=\"dataframe\">\n",
       "  <thead>\n",
       "    <tr style=\"text-align: right;\">\n",
       "      <th>Exited</th>\n",
       "      <th>0</th>\n",
       "      <th>1</th>\n",
       "    </tr>\n",
       "    <tr>\n",
       "      <th>Age</th>\n",
       "      <th></th>\n",
       "      <th></th>\n",
       "    </tr>\n",
       "  </thead>\n",
       "  <tbody>\n",
       "    <tr>\n",
       "      <th>(0, 20]</th>\n",
       "      <td>612</td>\n",
       "      <td>56</td>\n",
       "    </tr>\n",
       "    <tr>\n",
       "      <th>(20, 30]</th>\n",
       "      <td>25871</td>\n",
       "      <td>2330</td>\n",
       "    </tr>\n",
       "    <tr>\n",
       "      <th>(30, 40]</th>\n",
       "      <td>73812</td>\n",
       "      <td>10102</td>\n",
       "    </tr>\n",
       "    <tr>\n",
       "      <th>(40, 50]</th>\n",
       "      <td>22715</td>\n",
       "      <td>14409</td>\n",
       "    </tr>\n",
       "    <tr>\n",
       "      <th>(50, 60]</th>\n",
       "      <td>4349</td>\n",
       "      <td>6762</td>\n",
       "    </tr>\n",
       "    <tr>\n",
       "      <th>(60, 100]</th>\n",
       "      <td>2754</td>\n",
       "      <td>1262</td>\n",
       "    </tr>\n",
       "  </tbody>\n",
       "</table>\n",
       "</div>"
      ],
      "text/plain": [
       "Exited         0      1\n",
       "Age                    \n",
       "(0, 20]      612     56\n",
       "(20, 30]   25871   2330\n",
       "(30, 40]   73812  10102\n",
       "(40, 50]   22715  14409\n",
       "(50, 60]    4349   6762\n",
       "(60, 100]   2754   1262"
      ]
     },
     "execution_count": 10,
     "metadata": {},
     "output_type": "execute_result"
    }
   ],
   "source": [
    "contingency = pd.crosstab(index = z.Age, columns = z.Exited, values = z.Exited, aggfunc = \"count\") \n",
    "contingency"
   ]
  },
  {
   "cell_type": "code",
   "execution_count": 11,
   "id": "6d0f1e9e-b2ee-49d2-8306-ad7ba4c8c9e9",
   "metadata": {},
   "outputs": [
    {
     "name": "stdout",
     "output_type": "stream",
     "text": [
      "chi-square stat: 24747.605446376314, p_value = 0.0\n"
     ]
    }
   ],
   "source": [
    "#The above result shows that it is significant.\n",
    "result = st.chi2_contingency(contingency)\n",
    "print(\"chi-square stat: {}, p_value = {}\".format(result.statistic, result.pvalue))"
   ]
  },
  {
   "cell_type": "code",
   "execution_count": 12,
   "id": "fb45bee8-b064-4035-86e7-60c0edb7cd5e",
   "metadata": {},
   "outputs": [],
   "source": [
    "# Transformer\n",
    "class AgeLogTransformer(BaseEstimator, TransformerMixin):\n",
    "    def __init__(self):\n",
    "        self.targetEncoder = TargetEncoder()\n",
    "\n",
    "    def fit(self,X,y):\n",
    "        age = X.Age.apply(lambda z: self.ageDivider(z)) \n",
    "        age_1 = np.array(age).reshape(-1,1)\n",
    "        self.targetEncoder.fit(age_1, y)\n",
    "        self.rank_encodings = np.sort(self.targetEncoder.encodings_[0])\n",
    "        return self\n",
    "\n",
    "    def ageDivider(self, x):\n",
    "        code = 0\n",
    "        if x < 24.5:\n",
    "            code = 0\n",
    "        if x >= 24.5:\n",
    "           code = 1\n",
    "        if x >= 31.5:\n",
    "            code = 2\n",
    "        if x >= 38.5:\n",
    "            code = 3\n",
    "        if x >= 44.5 :\n",
    "            code = 4\n",
    "        if x >= 51.5:\n",
    "            code = 5\n",
    "        if x >= 58.5:\n",
    "            code = 6\n",
    "        if x >= 65.5:\n",
    "            code = 7\n",
    "        if x >= 71.5:\n",
    "            code = 8\n",
    "        if x >= 78.5:\n",
    "            code = 9\n",
    "        if x >= 85.5:\n",
    "            code = 10 \n",
    "        return code\n",
    "\n",
    "    def transform(self,X):\n",
    "        age = X.Age.apply(lambda s: self.ageDivider(s))\n",
    "        age_1 = np.array(age).reshape(-1,1)\n",
    "        output = self.targetEncoder.transform(age_1)\n",
    "        return output \n",
    "        \n",
    "\n",
    "\n"
   ]
  },
  {
   "cell_type": "code",
   "execution_count": 16,
   "id": "8593fa50-783d-4d59-9e94-bd3fcdf19cc7",
   "metadata": {},
   "outputs": [],
   "source": [
    "# Transformer\n",
    "class AgeLogTransformer(BaseEstimator, TransformerMixin):\n",
    "    def __init__(self):\n",
    "        self.targetEncoder = TargetEncoder()\n",
    "\n",
    "    def fit(self,X,y):\n",
    "        age = np.log(X.Age)\n",
    "        age = age.apply(lambda z: self.ageDivider(z)) \n",
    "        age_1 = np.array(age).reshape(-1,1)\n",
    "        self.targetEncoder.fit(age_1, y)\n",
    "        self.rank_encodings = np.sort(self.targetEncoder.encodings_[0])\n",
    "        return self\n",
    "\n",
    "    def ageDivider(self, x):\n",
    "        code = 0\n",
    "        if x >= 3.1:\n",
    "           code = 1\n",
    "        if x >= 3.3:\n",
    "            code = 2\n",
    "        if x >= 3.5:\n",
    "            code = 3\n",
    "        if x >= 3.7:\n",
    "            code = 4\n",
    "        if x >= 3.9:\n",
    "            code = 5\n",
    "        if x >= 4.1:\n",
    "            code = 6\n",
    "        if x >= 4.3:\n",
    "            code = 7\n",
    "        if x >= 4.5:\n",
    "            code = 8\n",
    "        return code\n",
    "\n",
    "    def transform(self,X):\n",
    "        age = np.log(X.Age)\n",
    "        age = X.Age.apply(lambda s: self.ageDivider(s))\n",
    "        age_1 = np.array(age).reshape(-1,1)\n",
    "        output = self.targetEncoder.transform(age_1)\n",
    "        return output \n",
    "        \n",
    "\n",
    "\n"
   ]
  },
  {
   "cell_type": "code",
   "execution_count": null,
   "id": "b285fc36-93f3-4d3c-9b68-a475d7b74f62",
   "metadata": {},
   "outputs": [],
   "source": []
  }
 ],
 "metadata": {
  "kernelspec": {
   "display_name": "Python 3 (ipykernel)",
   "language": "python",
   "name": "python3"
  },
  "language_info": {
   "codemirror_mode": {
    "name": "ipython",
    "version": 3
   },
   "file_extension": ".py",
   "mimetype": "text/x-python",
   "name": "python",
   "nbconvert_exporter": "python",
   "pygments_lexer": "ipython3",
   "version": "3.11.7"
  }
 },
 "nbformat": 4,
 "nbformat_minor": 5
}
