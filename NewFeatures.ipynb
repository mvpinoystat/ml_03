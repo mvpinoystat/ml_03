{
 "cells": [
  {
   "cell_type": "markdown",
   "id": "456cacbf-53c7-46dd-be56-329b70a3c9cc",
   "metadata": {},
   "source": [
    "# New Features "
   ]
  },
  {
   "cell_type": "code",
   "execution_count": 1,
   "id": "ac238bfb-d012-4909-ac37-1ef7062f17fb",
   "metadata": {},
   "outputs": [],
   "source": [
    "import numpy as np\n",
    "import pandas as pd \n",
    "import tensorflow as tf\n",
    "import tensorflow.keras as ks\n",
    "\n",
    "#unsupervised:\n",
    "from sklearn.cluster import KMeans\n",
    "#transformers:\n",
    "from sklearn.preprocessing import OneHotEncoder, TargetEncoder, StandardScaler\n",
    "from sklearn.base import BaseEstimator, TransformerMixin\n",
    "import scipy.stats as st\n",
    "\n",
    "import matplotlib.pyplot as plt\n",
    "import matplotlib.colors as mcolors\n",
    "\n",
    "\n",
    "#Note: train data has 13 feature column and 1 binary label for a total of 14 columns"
   ]
  },
  {
   "cell_type": "code",
   "execution_count": 2,
   "id": "be80e1f5-2c71-49ac-b6a5-283a85ea3ed4",
   "metadata": {},
   "outputs": [],
   "source": [
    "train = pd.read_csv(\"train.csv\")\n",
    "test = pd.read_csv(\"test.csv\")"
   ]
  },
  {
   "cell_type": "code",
   "execution_count": 3,
   "id": "79cab270-cb6d-432e-a46a-96f897462e2e",
   "metadata": {},
   "outputs": [
    {
     "data": {
      "text/html": [
       "<div>\n",
       "<style scoped>\n",
       "    .dataframe tbody tr th:only-of-type {\n",
       "        vertical-align: middle;\n",
       "    }\n",
       "\n",
       "    .dataframe tbody tr th {\n",
       "        vertical-align: top;\n",
       "    }\n",
       "\n",
       "    .dataframe thead th {\n",
       "        text-align: right;\n",
       "    }\n",
       "</style>\n",
       "<table border=\"1\" class=\"dataframe\">\n",
       "  <thead>\n",
       "    <tr style=\"text-align: right;\">\n",
       "      <th></th>\n",
       "      <th>id</th>\n",
       "      <th>CustomerId</th>\n",
       "      <th>Surname</th>\n",
       "      <th>CreditScore</th>\n",
       "      <th>Geography</th>\n",
       "      <th>Gender</th>\n",
       "      <th>Age</th>\n",
       "      <th>Tenure</th>\n",
       "      <th>Balance</th>\n",
       "      <th>NumOfProducts</th>\n",
       "      <th>HasCrCard</th>\n",
       "      <th>IsActiveMember</th>\n",
       "      <th>EstimatedSalary</th>\n",
       "      <th>Exited</th>\n",
       "    </tr>\n",
       "  </thead>\n",
       "  <tbody>\n",
       "    <tr>\n",
       "      <th>0</th>\n",
       "      <td>0</td>\n",
       "      <td>15674932</td>\n",
       "      <td>Okwudilichukwu</td>\n",
       "      <td>668</td>\n",
       "      <td>France</td>\n",
       "      <td>Male</td>\n",
       "      <td>33.0</td>\n",
       "      <td>3</td>\n",
       "      <td>0.00</td>\n",
       "      <td>2</td>\n",
       "      <td>1.0</td>\n",
       "      <td>0.0</td>\n",
       "      <td>181449.97</td>\n",
       "      <td>0</td>\n",
       "    </tr>\n",
       "    <tr>\n",
       "      <th>1</th>\n",
       "      <td>1</td>\n",
       "      <td>15749177</td>\n",
       "      <td>Okwudiliolisa</td>\n",
       "      <td>627</td>\n",
       "      <td>France</td>\n",
       "      <td>Male</td>\n",
       "      <td>33.0</td>\n",
       "      <td>1</td>\n",
       "      <td>0.00</td>\n",
       "      <td>2</td>\n",
       "      <td>1.0</td>\n",
       "      <td>1.0</td>\n",
       "      <td>49503.50</td>\n",
       "      <td>0</td>\n",
       "    </tr>\n",
       "    <tr>\n",
       "      <th>2</th>\n",
       "      <td>2</td>\n",
       "      <td>15694510</td>\n",
       "      <td>Hsueh</td>\n",
       "      <td>678</td>\n",
       "      <td>France</td>\n",
       "      <td>Male</td>\n",
       "      <td>40.0</td>\n",
       "      <td>10</td>\n",
       "      <td>0.00</td>\n",
       "      <td>2</td>\n",
       "      <td>1.0</td>\n",
       "      <td>0.0</td>\n",
       "      <td>184866.69</td>\n",
       "      <td>0</td>\n",
       "    </tr>\n",
       "    <tr>\n",
       "      <th>3</th>\n",
       "      <td>3</td>\n",
       "      <td>15741417</td>\n",
       "      <td>Kao</td>\n",
       "      <td>581</td>\n",
       "      <td>France</td>\n",
       "      <td>Male</td>\n",
       "      <td>34.0</td>\n",
       "      <td>2</td>\n",
       "      <td>148882.54</td>\n",
       "      <td>1</td>\n",
       "      <td>1.0</td>\n",
       "      <td>1.0</td>\n",
       "      <td>84560.88</td>\n",
       "      <td>0</td>\n",
       "    </tr>\n",
       "    <tr>\n",
       "      <th>4</th>\n",
       "      <td>4</td>\n",
       "      <td>15766172</td>\n",
       "      <td>Chiemenam</td>\n",
       "      <td>716</td>\n",
       "      <td>Spain</td>\n",
       "      <td>Male</td>\n",
       "      <td>33.0</td>\n",
       "      <td>5</td>\n",
       "      <td>0.00</td>\n",
       "      <td>2</td>\n",
       "      <td>1.0</td>\n",
       "      <td>1.0</td>\n",
       "      <td>15068.83</td>\n",
       "      <td>0</td>\n",
       "    </tr>\n",
       "    <tr>\n",
       "      <th>5</th>\n",
       "      <td>5</td>\n",
       "      <td>15771669</td>\n",
       "      <td>Genovese</td>\n",
       "      <td>588</td>\n",
       "      <td>Germany</td>\n",
       "      <td>Male</td>\n",
       "      <td>36.0</td>\n",
       "      <td>4</td>\n",
       "      <td>131778.58</td>\n",
       "      <td>1</td>\n",
       "      <td>1.0</td>\n",
       "      <td>0.0</td>\n",
       "      <td>136024.31</td>\n",
       "      <td>1</td>\n",
       "    </tr>\n",
       "    <tr>\n",
       "      <th>6</th>\n",
       "      <td>6</td>\n",
       "      <td>15692819</td>\n",
       "      <td>Ch'ang</td>\n",
       "      <td>593</td>\n",
       "      <td>France</td>\n",
       "      <td>Female</td>\n",
       "      <td>30.0</td>\n",
       "      <td>8</td>\n",
       "      <td>144772.69</td>\n",
       "      <td>1</td>\n",
       "      <td>1.0</td>\n",
       "      <td>0.0</td>\n",
       "      <td>29792.11</td>\n",
       "      <td>0</td>\n",
       "    </tr>\n",
       "    <tr>\n",
       "      <th>7</th>\n",
       "      <td>7</td>\n",
       "      <td>15669611</td>\n",
       "      <td>Chukwuebuka</td>\n",
       "      <td>678</td>\n",
       "      <td>Spain</td>\n",
       "      <td>Male</td>\n",
       "      <td>37.0</td>\n",
       "      <td>1</td>\n",
       "      <td>138476.41</td>\n",
       "      <td>1</td>\n",
       "      <td>1.0</td>\n",
       "      <td>0.0</td>\n",
       "      <td>106851.60</td>\n",
       "      <td>0</td>\n",
       "    </tr>\n",
       "    <tr>\n",
       "      <th>8</th>\n",
       "      <td>8</td>\n",
       "      <td>15691707</td>\n",
       "      <td>Manna</td>\n",
       "      <td>676</td>\n",
       "      <td>France</td>\n",
       "      <td>Male</td>\n",
       "      <td>43.0</td>\n",
       "      <td>4</td>\n",
       "      <td>0.00</td>\n",
       "      <td>2</td>\n",
       "      <td>1.0</td>\n",
       "      <td>0.0</td>\n",
       "      <td>142917.13</td>\n",
       "      <td>0</td>\n",
       "    </tr>\n",
       "  </tbody>\n",
       "</table>\n",
       "</div>"
      ],
      "text/plain": [
       "   id  CustomerId         Surname  CreditScore Geography  Gender   Age  \\\n",
       "0   0    15674932  Okwudilichukwu          668    France    Male  33.0   \n",
       "1   1    15749177   Okwudiliolisa          627    France    Male  33.0   \n",
       "2   2    15694510           Hsueh          678    France    Male  40.0   \n",
       "3   3    15741417             Kao          581    France    Male  34.0   \n",
       "4   4    15766172       Chiemenam          716     Spain    Male  33.0   \n",
       "5   5    15771669        Genovese          588   Germany    Male  36.0   \n",
       "6   6    15692819          Ch'ang          593    France  Female  30.0   \n",
       "7   7    15669611     Chukwuebuka          678     Spain    Male  37.0   \n",
       "8   8    15691707           Manna          676    France    Male  43.0   \n",
       "\n",
       "   Tenure    Balance  NumOfProducts  HasCrCard  IsActiveMember  \\\n",
       "0       3       0.00              2        1.0             0.0   \n",
       "1       1       0.00              2        1.0             1.0   \n",
       "2      10       0.00              2        1.0             0.0   \n",
       "3       2  148882.54              1        1.0             1.0   \n",
       "4       5       0.00              2        1.0             1.0   \n",
       "5       4  131778.58              1        1.0             0.0   \n",
       "6       8  144772.69              1        1.0             0.0   \n",
       "7       1  138476.41              1        1.0             0.0   \n",
       "8       4       0.00              2        1.0             0.0   \n",
       "\n",
       "   EstimatedSalary  Exited  \n",
       "0        181449.97       0  \n",
       "1         49503.50       0  \n",
       "2        184866.69       0  \n",
       "3         84560.88       0  \n",
       "4         15068.83       0  \n",
       "5        136024.31       1  \n",
       "6         29792.11       0  \n",
       "7        106851.60       0  \n",
       "8        142917.13       0  "
      ]
     },
     "execution_count": 3,
     "metadata": {},
     "output_type": "execute_result"
    }
   ],
   "source": [
    "train.head(9)"
   ]
  },
  {
   "cell_type": "code",
   "execution_count": 4,
   "id": "bec0d3f8-ba49-41a4-a65d-b40988332de8",
   "metadata": {},
   "outputs": [
    {
     "name": "stdout",
     "output_type": "stream",
     "text": [
      "<class 'pandas.core.frame.DataFrame'>\n",
      "RangeIndex: 165034 entries, 0 to 165033\n",
      "Data columns (total 14 columns):\n",
      " #   Column           Non-Null Count   Dtype  \n",
      "---  ------           --------------   -----  \n",
      " 0   id               165034 non-null  int64  \n",
      " 1   CustomerId       165034 non-null  int64  \n",
      " 2   Surname          165034 non-null  object \n",
      " 3   CreditScore      165034 non-null  int64  \n",
      " 4   Geography        165034 non-null  object \n",
      " 5   Gender           165034 non-null  object \n",
      " 6   Age              165034 non-null  float64\n",
      " 7   Tenure           165034 non-null  int64  \n",
      " 8   Balance          165034 non-null  float64\n",
      " 9   NumOfProducts    165034 non-null  int64  \n",
      " 10  HasCrCard        165034 non-null  float64\n",
      " 11  IsActiveMember   165034 non-null  float64\n",
      " 12  EstimatedSalary  165034 non-null  float64\n",
      " 13  Exited           165034 non-null  int64  \n",
      "dtypes: float64(5), int64(6), object(3)\n",
      "memory usage: 17.6+ MB\n"
     ]
    }
   ],
   "source": [
    "train.info()"
   ]
  },
  {
   "cell_type": "code",
   "execution_count": 5,
   "id": "7a266a03-b473-4d4f-a4d7-2cb8091a88e5",
   "metadata": {},
   "outputs": [],
   "source": [
    "xx = train.drop(columns = 'Exited', axis = 0).copy() \n",
    "y = train.Exited.copy()"
   ]
  },
  {
   "cell_type": "code",
   "execution_count": 6,
   "id": "b42f2f00-022c-4fe2-a806-4d808175aa9c",
   "metadata": {},
   "outputs": [],
   "source": [
    "# Below is the transformer to add feature columns prior to individual columns transformation\n",
    "# Involvement increased \n",
    "class FeatureCreation(BaseEstimator, TransformerMixin):\n",
    "    def __init__(self):\n",
    "        self.standardScaler = StandardScaler()\n",
    "    def fit(self, X, y=None):\n",
    "        X['BalanceCoverage'] = X.EstimatedSalary / (X.Balance +1)\n",
    "        X['HasCrCardAndBalance'] = X.apply(lambda z: self.checkHasCrAndBalance(z.Balance, z.HasCrCard), axis = 1)\n",
    "        X['HasBalance'] = X.Balance.apply(lambda z: 0 if( z < 1) else 1)\n",
    "        X['IsSenior'] = X.Age.apply(lambda z: 0 if(z <60) else 1)\n",
    "        X['Involvement'] = X.HasCrCard + X.IsActiveMember + X.NumOfProducts + X.HasBalance\n",
    "        a = np.array(X[['BalanceCoverage','HasCrCardAndBalance','HasBalance', 'IsSenior', 'Involvement']])\n",
    "        self.standardScaler.fit(a)\n",
    "        return self\n",
    "\n",
    "    def checkHasCrAndBalance(self, a,b):\n",
    "        flag = 0\n",
    "        if((a > 0) and (b > 0)):\n",
    "            flag = 1\n",
    "        return flag\n",
    "\n",
    "    def transform(self, X):\n",
    "        X['BalanceCoverage'] = X.EstimatedSalary / (X.Balance +1)\n",
    "        X['HasCrCardAndBalance'] = X.apply(lambda z: self.checkHasCrAndBalance(z.Balance, z.HasCrCard), axis = 1)\n",
    "        X['HasBalance'] = X.Balance.apply(lambda z: 0 if( z < 1) else 1)\n",
    "        X['IsSenior'] = X.Age.apply(lambda z: 0 if(z <60) else 1)\n",
    "        X['Involvement'] = X.HasCrCard + X.IsActiveMember + X.NumOfProducts + X.HasBalance \n",
    "        a = np.array(X[['BalanceCoverage','HasCrCardAndBalance','HasBalance', 'IsSenior', 'Involvement']])\n",
    "        #return self.standardScaler.transform(a) \n",
    "        return X.copy()\n",
    "        \n",
    "        \n",
    "        "
   ]
  },
  {
   "cell_type": "code",
   "execution_count": 7,
   "id": "320b15eb-5e65-4d73-b4aa-4182c144d24a",
   "metadata": {},
   "outputs": [],
   "source": [
    "a = FeatureCreation().fit_transform(train)"
   ]
  },
  {
   "cell_type": "code",
   "execution_count": 8,
   "id": "76a40b02-9f64-4ad5-97e1-cedd5b09c6a0",
   "metadata": {},
   "outputs": [
    {
     "data": {
      "text/html": [
       "<div>\n",
       "<style scoped>\n",
       "    .dataframe tbody tr th:only-of-type {\n",
       "        vertical-align: middle;\n",
       "    }\n",
       "\n",
       "    .dataframe tbody tr th {\n",
       "        vertical-align: top;\n",
       "    }\n",
       "\n",
       "    .dataframe thead th {\n",
       "        text-align: right;\n",
       "    }\n",
       "</style>\n",
       "<table border=\"1\" class=\"dataframe\">\n",
       "  <thead>\n",
       "    <tr style=\"text-align: right;\">\n",
       "      <th></th>\n",
       "      <th>id</th>\n",
       "      <th>CustomerId</th>\n",
       "      <th>Surname</th>\n",
       "      <th>CreditScore</th>\n",
       "      <th>Geography</th>\n",
       "      <th>Gender</th>\n",
       "      <th>Age</th>\n",
       "      <th>Tenure</th>\n",
       "      <th>Balance</th>\n",
       "      <th>NumOfProducts</th>\n",
       "      <th>HasCrCard</th>\n",
       "      <th>IsActiveMember</th>\n",
       "      <th>EstimatedSalary</th>\n",
       "      <th>Exited</th>\n",
       "      <th>BalanceCoverage</th>\n",
       "      <th>HasCrCardAndBalance</th>\n",
       "      <th>HasBalance</th>\n",
       "      <th>IsSenior</th>\n",
       "      <th>Involvement</th>\n",
       "    </tr>\n",
       "  </thead>\n",
       "  <tbody>\n",
       "    <tr>\n",
       "      <th>0</th>\n",
       "      <td>0</td>\n",
       "      <td>15674932</td>\n",
       "      <td>Okwudilichukwu</td>\n",
       "      <td>668</td>\n",
       "      <td>France</td>\n",
       "      <td>Male</td>\n",
       "      <td>33.0</td>\n",
       "      <td>3</td>\n",
       "      <td>0.00</td>\n",
       "      <td>2</td>\n",
       "      <td>1.0</td>\n",
       "      <td>0.0</td>\n",
       "      <td>181449.97</td>\n",
       "      <td>0</td>\n",
       "      <td>181449.970000</td>\n",
       "      <td>0</td>\n",
       "      <td>0</td>\n",
       "      <td>0</td>\n",
       "      <td>3.0</td>\n",
       "    </tr>\n",
       "    <tr>\n",
       "      <th>1</th>\n",
       "      <td>1</td>\n",
       "      <td>15749177</td>\n",
       "      <td>Okwudiliolisa</td>\n",
       "      <td>627</td>\n",
       "      <td>France</td>\n",
       "      <td>Male</td>\n",
       "      <td>33.0</td>\n",
       "      <td>1</td>\n",
       "      <td>0.00</td>\n",
       "      <td>2</td>\n",
       "      <td>1.0</td>\n",
       "      <td>1.0</td>\n",
       "      <td>49503.50</td>\n",
       "      <td>0</td>\n",
       "      <td>49503.500000</td>\n",
       "      <td>0</td>\n",
       "      <td>0</td>\n",
       "      <td>0</td>\n",
       "      <td>4.0</td>\n",
       "    </tr>\n",
       "    <tr>\n",
       "      <th>2</th>\n",
       "      <td>2</td>\n",
       "      <td>15694510</td>\n",
       "      <td>Hsueh</td>\n",
       "      <td>678</td>\n",
       "      <td>France</td>\n",
       "      <td>Male</td>\n",
       "      <td>40.0</td>\n",
       "      <td>10</td>\n",
       "      <td>0.00</td>\n",
       "      <td>2</td>\n",
       "      <td>1.0</td>\n",
       "      <td>0.0</td>\n",
       "      <td>184866.69</td>\n",
       "      <td>0</td>\n",
       "      <td>184866.690000</td>\n",
       "      <td>0</td>\n",
       "      <td>0</td>\n",
       "      <td>0</td>\n",
       "      <td>3.0</td>\n",
       "    </tr>\n",
       "    <tr>\n",
       "      <th>3</th>\n",
       "      <td>3</td>\n",
       "      <td>15741417</td>\n",
       "      <td>Kao</td>\n",
       "      <td>581</td>\n",
       "      <td>France</td>\n",
       "      <td>Male</td>\n",
       "      <td>34.0</td>\n",
       "      <td>2</td>\n",
       "      <td>148882.54</td>\n",
       "      <td>1</td>\n",
       "      <td>1.0</td>\n",
       "      <td>1.0</td>\n",
       "      <td>84560.88</td>\n",
       "      <td>0</td>\n",
       "      <td>0.567967</td>\n",
       "      <td>1</td>\n",
       "      <td>1</td>\n",
       "      <td>0</td>\n",
       "      <td>4.0</td>\n",
       "    </tr>\n",
       "  </tbody>\n",
       "</table>\n",
       "</div>"
      ],
      "text/plain": [
       "   id  CustomerId         Surname  CreditScore Geography Gender   Age  Tenure  \\\n",
       "0   0    15674932  Okwudilichukwu          668    France   Male  33.0       3   \n",
       "1   1    15749177   Okwudiliolisa          627    France   Male  33.0       1   \n",
       "2   2    15694510           Hsueh          678    France   Male  40.0      10   \n",
       "3   3    15741417             Kao          581    France   Male  34.0       2   \n",
       "\n",
       "     Balance  NumOfProducts  HasCrCard  IsActiveMember  EstimatedSalary  \\\n",
       "0       0.00              2        1.0             0.0        181449.97   \n",
       "1       0.00              2        1.0             1.0         49503.50   \n",
       "2       0.00              2        1.0             0.0        184866.69   \n",
       "3  148882.54              1        1.0             1.0         84560.88   \n",
       "\n",
       "   Exited  BalanceCoverage  HasCrCardAndBalance  HasBalance  IsSenior  \\\n",
       "0       0    181449.970000                    0           0         0   \n",
       "1       0     49503.500000                    0           0         0   \n",
       "2       0    184866.690000                    0           0         0   \n",
       "3       0         0.567967                    1           1         0   \n",
       "\n",
       "   Involvement  \n",
       "0          3.0  \n",
       "1          4.0  \n",
       "2          3.0  \n",
       "3          4.0  "
      ]
     },
     "execution_count": 8,
     "metadata": {},
     "output_type": "execute_result"
    }
   ],
   "source": [
    "a[:4]"
   ]
  },
  {
   "cell_type": "code",
   "execution_count": 9,
   "id": "06fcdf40-79e3-4d5d-9a24-bc1712b9f818",
   "metadata": {},
   "outputs": [
    {
     "data": {
      "text/plain": [
       "array([2, 1, 3, 4])"
      ]
     },
     "execution_count": 9,
     "metadata": {},
     "output_type": "execute_result"
    }
   ],
   "source": [
    "a.NumOfProducts.unique()"
   ]
  },
  {
   "cell_type": "code",
   "execution_count": 10,
   "id": "8d4e8195-6456-4fe1-90d1-30a54f2144b5",
   "metadata": {},
   "outputs": [
    {
     "data": {
      "image/png": "[encoded data removed]",
      "text/plain": [
       "<Figure size 1200x600 with 2 Axes>"
      ]
     },
     "metadata": {},
     "output_type": "display_data"
    }
   ],
   "source": [
    "fig, ax = plt.subplots(ncols = 2, figsize = (12, 6))\n",
    "ax[0].hist(a.BalanceCoverage)\n",
    "ax[1].hist(a.Balance)\n",
    "plt.show()"
   ]
  },
  {
   "cell_type": "code",
   "execution_count": 11,
   "id": "3862963f-b012-41bb-8dca-e82e2e02ab56",
   "metadata": {},
   "outputs": [
    {
     "data": {
      "text/plain": [
       "PearsonRResult(statistic=-0.801729864408831, pvalue=0.0)"
      ]
     },
     "execution_count": 11,
     "metadata": {},
     "output_type": "execute_result"
    }
   ],
   "source": [
    "st.pearsonr(a.Balance, a.BalanceCoverage)"
   ]
  },
  {
   "cell_type": "code",
   "execution_count": 12,
   "id": "32f8d9bc-699f-412b-97f5-44e495565b82",
   "metadata": {},
   "outputs": [
    {
     "data": {
      "text/plain": [
       "array([[0.32325549],\n",
       "       [0.32846132],\n",
       "       [0.22389677],\n",
       "       ...,\n",
       "       [0.21205904],\n",
       "       [0.24006242],\n",
       "       [0.22807391]])"
      ]
     },
     "execution_count": 12,
     "metadata": {},
     "output_type": "execute_result"
    }
   ],
   "source": [
    "tt = TargetEncoder()\n",
    "tt.fit_transform(np.array(train['Surname']).reshape(-1,1), y)"
   ]
  },
  {
   "cell_type": "code",
   "execution_count": 13,
   "id": "589b192b-36ec-4136-8c6a-9c9836a05b9e",
   "metadata": {},
   "outputs": [
    {
     "ename": "NameError",
     "evalue": "name 'X' is not defined",
     "output_type": "error",
     "traceback": [
      "\u001b[0;31m---------------------------------------------------------------------------\u001b[0m",
      "\u001b[0;31mNameError\u001b[0m                                 Traceback (most recent call last)",
      "Cell \u001b[0;32mIn[13], line 1\u001b[0m\n\u001b[0;32m----> 1\u001b[0m \u001b[43mX\u001b[49m\u001b[38;5;241m.\u001b[39mSurname\u001b[38;5;241m.\u001b[39mshape\n",
      "\u001b[0;31mNameError\u001b[0m: name 'X' is not defined"
     ]
    }
   ],
   "source": [
    "X.Surname.shape"
   ]
  },
  {
   "cell_type": "code",
   "execution_count": null,
   "id": "fe3f9cb7-0dc1-4e23-9aa8-bb0ef2499218",
   "metadata": {},
   "outputs": [],
   "source": [
    "X.Surname.unique().shape"
   ]
  },
  {
   "cell_type": "code",
   "execution_count": null,
   "id": "19cc3ec9-1a6d-4695-a062-a5abd92b4e42",
   "metadata": {},
   "outputs": [],
   "source": [
    "X.shape"
   ]
  },
  {
   "cell_type": "code",
   "execution_count": null,
   "id": "a830bec3-6ef3-4143-a123-51dbe41ea10c",
   "metadata": {},
   "outputs": [],
   "source": [
    "a = train.loc[train.Surname == train.Surname.unique()[1000],]\n",
    "print(\"shape: {}\".format(a.shape))\n",
    "tot_exited = a.Exited.sum()\n",
    "print(\"n_exited: {}\".format(a.Exited.sum()))\n",
    "print(\"ratio_of_exited: {}\".format(tot_exited/a.shape[0]))"
   ]
  },
  {
   "cell_type": "code",
   "execution_count": null,
   "id": "43726d46-3af8-4617-b05e-37b80dbcef0a",
   "metadata": {},
   "outputs": [],
   "source": [
    "a.head(5)"
   ]
  },
  {
   "cell_type": "code",
   "execution_count": null,
   "id": "b8aa8112-5a73-4bbb-8464-204b50577a6f",
   "metadata": {},
   "outputs": [],
   "source": [
    "a = pd.crosstab(index = [train.Geography], columns = train.Exited).tail(10)\n",
    "a"
   ]
  },
  {
   "cell_type": "code",
   "execution_count": null,
   "id": "53890701-0b17-48a2-bc36-9bbe0d6096a4",
   "metadata": {},
   "outputs": [],
   "source": [
    "train.shape"
   ]
  },
  {
   "cell_type": "code",
   "execution_count": null,
   "id": "72d07bea-1f9c-4416-a3dc-b53ab2527f8e",
   "metadata": {},
   "outputs": [],
   "source": [
    "train.Surname.unique().shape"
   ]
  },
  {
   "cell_type": "code",
   "execution_count": null,
   "id": "d1dd0041-b07d-4cc2-a6e4-e5eb808400b7",
   "metadata": {},
   "outputs": [],
   "source": [
    "equals = []\n",
    "for i in train.CustomerId.unique():\n",
    "    for j in test.CustomerId.unique():\n",
    "        if(i == j):\n",
    "            equals.append(i)\n"
   ]
  },
  {
   "cell_type": "code",
   "execution_count": null,
   "id": "c3016b24-6928-456b-bc5e-37fd2f6d44b9",
   "metadata": {},
   "outputs": [],
   "source": [
    "len(equals)"
   ]
  },
  {
   "cell_type": "code",
   "execution_count": null,
   "id": "f76fcca8-1769-441d-9de1-967acda67e89",
   "metadata": {},
   "outputs": [],
   "source": [
    "test.shape"
   ]
  },
  {
   "cell_type": "code",
   "execution_count": null,
   "id": "914574c6-9fc3-4e33-a077-653438e7b2a8",
   "metadata": {},
   "outputs": [],
   "source": [
    "tx_equal = train.loc[train.CustomerId == equals[0]]\n",
    "tx_equal"
   ]
  },
  {
   "cell_type": "code",
   "execution_count": null,
   "id": "7b83c306-fcde-4289-b240-3016b9fbf8cd",
   "metadata": {},
   "outputs": [],
   "source": []
  }
 ],
 "metadata": {
  "kernelspec": {
   "display_name": "Python 3 (ipykernel)",
   "language": "python",
   "name": "python3"
  },
  "language_info": {
   "codemirror_mode": {
    "name": "ipython",
    "version": 3
   },
   "file_extension": ".py",
   "mimetype": "text/x-python",
   "name": "python",
   "nbconvert_exporter": "python",
   "pygments_lexer": "ipython3",
   "version": "3.11.7"
  }
 },
 "nbformat": 4,
 "nbformat_minor": 5
}
