{
 "cells": [
  {
   "cell_type": "code",
   "execution_count": 1,
   "id": "ac238bfb-d012-4909-ac37-1ef7062f17fb",
   "metadata": {},
   "outputs": [],
   "source": [
    "import numpy as np\n",
    "import pandas as pd \n",
    "import tensorflow as tf\n",
    "import tensorflow.keras as ks\n",
    "\n",
    "#unsupervised:\n",
    "from sklearn.cluster import KMeans\n",
    "#transformers:\n",
    "from sklearn.preprocessing import OneHotEncoder, TargetEncoder\n",
    "from sklearn.base import BaseEstimator, TransformerMixin\n",
    "import scipy.stats as st\n",
    "\n",
    "import matplotlib.pyplot as plt\n",
    "import matplotlib.colors as mcolors\n",
    "\n",
    "#Note: train data has 13 feature column and 1 binary label for a total of 14 columns"
   ]
  },
  {
   "cell_type": "code",
   "execution_count": 2,
   "id": "be80e1f5-2c71-49ac-b6a5-283a85ea3ed4",
   "metadata": {},
   "outputs": [],
   "source": [
    "train = pd.read_csv(\"train.csv\")"
   ]
  },
  {
   "cell_type": "code",
   "execution_count": 3,
   "id": "79cab270-cb6d-432e-a46a-96f897462e2e",
   "metadata": {},
   "outputs": [
    {
     "data": {
      "text/html": [
       "<div>\n",
       "<style scoped>\n",
       "    .dataframe tbody tr th:only-of-type {\n",
       "        vertical-align: middle;\n",
       "    }\n",
       "\n",
       "    .dataframe tbody tr th {\n",
       "        vertical-align: top;\n",
       "    }\n",
       "\n",
       "    .dataframe thead th {\n",
       "        text-align: right;\n",
       "    }\n",
       "</style>\n",
       "<table border=\"1\" class=\"dataframe\">\n",
       "  <thead>\n",
       "    <tr style=\"text-align: right;\">\n",
       "      <th></th>\n",
       "      <th>id</th>\n",
       "      <th>CustomerId</th>\n",
       "      <th>Surname</th>\n",
       "      <th>CreditScore</th>\n",
       "      <th>Geography</th>\n",
       "      <th>Gender</th>\n",
       "      <th>Age</th>\n",
       "      <th>Tenure</th>\n",
       "      <th>Balance</th>\n",
       "      <th>NumOfProducts</th>\n",
       "      <th>HasCrCard</th>\n",
       "      <th>IsActiveMember</th>\n",
       "      <th>EstimatedSalary</th>\n",
       "      <th>Exited</th>\n",
       "    </tr>\n",
       "  </thead>\n",
       "  <tbody>\n",
       "    <tr>\n",
       "      <th>0</th>\n",
       "      <td>0</td>\n",
       "      <td>15674932</td>\n",
       "      <td>Okwudilichukwu</td>\n",
       "      <td>668</td>\n",
       "      <td>France</td>\n",
       "      <td>Male</td>\n",
       "      <td>33.0</td>\n",
       "      <td>3</td>\n",
       "      <td>0.00</td>\n",
       "      <td>2</td>\n",
       "      <td>1.0</td>\n",
       "      <td>0.0</td>\n",
       "      <td>181449.97</td>\n",
       "      <td>0</td>\n",
       "    </tr>\n",
       "    <tr>\n",
       "      <th>1</th>\n",
       "      <td>1</td>\n",
       "      <td>15749177</td>\n",
       "      <td>Okwudiliolisa</td>\n",
       "      <td>627</td>\n",
       "      <td>France</td>\n",
       "      <td>Male</td>\n",
       "      <td>33.0</td>\n",
       "      <td>1</td>\n",
       "      <td>0.00</td>\n",
       "      <td>2</td>\n",
       "      <td>1.0</td>\n",
       "      <td>1.0</td>\n",
       "      <td>49503.50</td>\n",
       "      <td>0</td>\n",
       "    </tr>\n",
       "    <tr>\n",
       "      <th>2</th>\n",
       "      <td>2</td>\n",
       "      <td>15694510</td>\n",
       "      <td>Hsueh</td>\n",
       "      <td>678</td>\n",
       "      <td>France</td>\n",
       "      <td>Male</td>\n",
       "      <td>40.0</td>\n",
       "      <td>10</td>\n",
       "      <td>0.00</td>\n",
       "      <td>2</td>\n",
       "      <td>1.0</td>\n",
       "      <td>0.0</td>\n",
       "      <td>184866.69</td>\n",
       "      <td>0</td>\n",
       "    </tr>\n",
       "    <tr>\n",
       "      <th>3</th>\n",
       "      <td>3</td>\n",
       "      <td>15741417</td>\n",
       "      <td>Kao</td>\n",
       "      <td>581</td>\n",
       "      <td>France</td>\n",
       "      <td>Male</td>\n",
       "      <td>34.0</td>\n",
       "      <td>2</td>\n",
       "      <td>148882.54</td>\n",
       "      <td>1</td>\n",
       "      <td>1.0</td>\n",
       "      <td>1.0</td>\n",
       "      <td>84560.88</td>\n",
       "      <td>0</td>\n",
       "    </tr>\n",
       "  </tbody>\n",
       "</table>\n",
       "</div>"
      ],
      "text/plain": [
       "   id  CustomerId         Surname  CreditScore Geography Gender   Age  Tenure  \\\n",
       "0   0    15674932  Okwudilichukwu          668    France   Male  33.0       3   \n",
       "1   1    15749177   Okwudiliolisa          627    France   Male  33.0       1   \n",
       "2   2    15694510           Hsueh          678    France   Male  40.0      10   \n",
       "3   3    15741417             Kao          581    France   Male  34.0       2   \n",
       "\n",
       "     Balance  NumOfProducts  HasCrCard  IsActiveMember  EstimatedSalary  \\\n",
       "0       0.00              2        1.0             0.0        181449.97   \n",
       "1       0.00              2        1.0             1.0         49503.50   \n",
       "2       0.00              2        1.0             0.0        184866.69   \n",
       "3  148882.54              1        1.0             1.0         84560.88   \n",
       "\n",
       "   Exited  \n",
       "0       0  \n",
       "1       0  \n",
       "2       0  \n",
       "3       0  "
      ]
     },
     "execution_count": 3,
     "metadata": {},
     "output_type": "execute_result"
    }
   ],
   "source": [
    "train.head(4)"
   ]
  },
  {
   "cell_type": "code",
   "execution_count": 4,
   "id": "a519ff95-10ee-4558-a37f-d78c9df3b994",
   "metadata": {},
   "outputs": [
    {
     "data": {
      "text/plain": [
       "(165034, 14)"
      ]
     },
     "execution_count": 4,
     "metadata": {},
     "output_type": "execute_result"
    }
   ],
   "source": [
    "train.shape"
   ]
  },
  {
   "cell_type": "code",
   "execution_count": 5,
   "id": "d308ab85-f1b1-49d7-b2fb-237aace7704c",
   "metadata": {},
   "outputs": [
    {
     "data": {
      "text/plain": [
       "(array([ 8058.,  6627., 13752., 17762., 20562., 17219., 22634., 21617.,\n",
       "        24251., 12552.]),\n",
       " array([1.1580000e+01, 2.0009670e+04, 4.0007760e+04, 6.0005850e+04,\n",
       "        8.0003940e+04, 1.0000203e+05, 1.2000012e+05, 1.3999821e+05,\n",
       "        1.5999630e+05, 1.7999439e+05, 1.9999248e+05]),\n",
       " <BarContainer object of 10 artists>)"
      ]
     },
     "execution_count": 5,
     "metadata": {},
     "output_type": "execute_result"
    },
    {
     "data": {
      "image/png": "[encoded data removed]",
      "text/plain": [
       "<Figure size 640x480 with 1 Axes>"
      ]
     },
     "metadata": {},
     "output_type": "display_data"
    }
   ],
   "source": [
    "plt.hist(train.EstimatedSalary)"
   ]
  },
  {
   "cell_type": "code",
   "execution_count": 6,
   "id": "17d8f291-0a20-4eea-bc58-e8cd2a2ac8e4",
   "metadata": {},
   "outputs": [],
   "source": [
    "a = pd.cut(train.EstimatedSalary, bins = [0,25000, 50000, 75000, 100000, 125000, 150000, 175000, 200000])"
   ]
  },
  {
   "cell_type": "code",
   "execution_count": 7,
   "id": "ae531430-228e-42f1-bd9d-c870db159aca",
   "metadata": {},
   "outputs": [
    {
     "data": {
      "text/html": [
       "<div>\n",
       "<style scoped>\n",
       "    .dataframe tbody tr th:only-of-type {\n",
       "        vertical-align: middle;\n",
       "    }\n",
       "\n",
       "    .dataframe tbody tr th {\n",
       "        vertical-align: top;\n",
       "    }\n",
       "\n",
       "    .dataframe thead th {\n",
       "        text-align: right;\n",
       "    }\n",
       "</style>\n",
       "<table border=\"1\" class=\"dataframe\">\n",
       "  <thead>\n",
       "    <tr style=\"text-align: right;\">\n",
       "      <th>Exited</th>\n",
       "      <th>0</th>\n",
       "      <th>1</th>\n",
       "    </tr>\n",
       "    <tr>\n",
       "      <th>EstimatedSalary</th>\n",
       "      <th></th>\n",
       "      <th></th>\n",
       "    </tr>\n",
       "  </thead>\n",
       "  <tbody>\n",
       "    <tr>\n",
       "      <th>(0, 25000]</th>\n",
       "      <td>7284</td>\n",
       "      <td>1899</td>\n",
       "    </tr>\n",
       "    <tr>\n",
       "      <th>(25000, 50000]</th>\n",
       "      <td>8705</td>\n",
       "      <td>2056</td>\n",
       "    </tr>\n",
       "    <tr>\n",
       "      <th>(50000, 75000]</th>\n",
       "      <td>17309</td>\n",
       "      <td>4783</td>\n",
       "    </tr>\n",
       "    <tr>\n",
       "      <th>(75000, 100000]</th>\n",
       "      <td>19871</td>\n",
       "      <td>4854</td>\n",
       "    </tr>\n",
       "    <tr>\n",
       "      <th>(100000, 125000]</th>\n",
       "      <td>18765</td>\n",
       "      <td>4883</td>\n",
       "    </tr>\n",
       "    <tr>\n",
       "      <th>(125000, 150000]</th>\n",
       "      <td>22528</td>\n",
       "      <td>6067</td>\n",
       "    </tr>\n",
       "    <tr>\n",
       "      <th>(150000, 175000]</th>\n",
       "      <td>21234</td>\n",
       "      <td>6143</td>\n",
       "    </tr>\n",
       "    <tr>\n",
       "      <th>(175000, 200000]</th>\n",
       "      <td>14417</td>\n",
       "      <td>4236</td>\n",
       "    </tr>\n",
       "  </tbody>\n",
       "</table>\n",
       "</div>"
      ],
      "text/plain": [
       "Exited                0     1\n",
       "EstimatedSalary              \n",
       "(0, 25000]         7284  1899\n",
       "(25000, 50000]     8705  2056\n",
       "(50000, 75000]    17309  4783\n",
       "(75000, 100000]   19871  4854\n",
       "(100000, 125000]  18765  4883\n",
       "(125000, 150000]  22528  6067\n",
       "(150000, 175000]  21234  6143\n",
       "(175000, 200000]  14417  4236"
      ]
     },
     "execution_count": 7,
     "metadata": {},
     "output_type": "execute_result"
    }
   ],
   "source": [
    "b = pd.merge(a, train.Exited, left_index = True, right_index = True)\n",
    "contingency = pd.crosstab(b.EstimatedSalary, b.Exited)\n",
    "contingency"
   ]
  },
  {
   "cell_type": "code",
   "execution_count": 8,
   "id": "cf98f947-47b1-4e8d-877b-0cf713303c84",
   "metadata": {},
   "outputs": [
    {
     "data": {
      "text/plain": [
       "Chi2ContingencyResult(statistic=123.7070362038302, pvalue=1.2936396835187625e-23, dof=7, expected_freq=array([[ 7239.88801701,  1943.11198299],\n",
       "       [ 8483.9850758 ,  2277.0149242 ],\n",
       "       [17417.35882303,  4674.64117697],\n",
       "       [19493.21912454,  5231.78087546],\n",
       "       [18644.1110559 ,  5003.8889441 ],\n",
       "       [22544.33168317,  6050.66831683],\n",
       "       [21584.05904844,  5792.94095156],\n",
       "       [14706.0471721 ,  3946.9528279 ]]))"
      ]
     },
     "execution_count": 8,
     "metadata": {},
     "output_type": "execute_result"
    }
   ],
   "source": [
    "result = st.chi2_contingency(contingency)\n",
    "result"
   ]
  },
  {
   "cell_type": "code",
   "execution_count": 36,
   "id": "f0e4e894-78ad-4c5c-bf57-c29dff5dcab7",
   "metadata": {},
   "outputs": [],
   "source": [
    "#optimizer:\n",
    "def cutOptimizer(colname, dataframe):\n",
    "    output = []\n",
    "    print(\"chi-square stat, independence test for {} and Exited variables\".format(colname))\n",
    "    for i in range(2,12):\n",
    "        v = pd.cut(dataframe[colname], bins = i)\n",
    "        v1 = pd.merge(v,dataframe.Exited, left_index = True, right_index = True)\n",
    "        v2 = pd.crosstab(v1[colname], v1.Exited)\n",
    "        result = st.chi2_contingency(v2)\n",
    "        output.append({\"n_bins\": i, \"stat\": result.statistic, \"p_value\": result.pvalue})\n",
    "    return pd.DataFrame(output)\n",
    "    \n",
    "    "
   ]
  },
  {
   "cell_type": "code",
   "execution_count": 37,
   "id": "64c2327d-53fa-416d-b4f6-5116d239deed",
   "metadata": {},
   "outputs": [
    {
     "name": "stdout",
     "output_type": "stream",
     "text": [
      "chi-square stat, independence test for EstimatedSalary and Exited variables\n"
     ]
    },
    {
     "data": {
      "text/html": [
       "<div>\n",
       "<style scoped>\n",
       "    .dataframe tbody tr th:only-of-type {\n",
       "        vertical-align: middle;\n",
       "    }\n",
       "\n",
       "    .dataframe tbody tr th {\n",
       "        vertical-align: top;\n",
       "    }\n",
       "\n",
       "    .dataframe thead th {\n",
       "        text-align: right;\n",
       "    }\n",
       "</style>\n",
       "<table border=\"1\" class=\"dataframe\">\n",
       "  <thead>\n",
       "    <tr style=\"text-align: right;\">\n",
       "      <th></th>\n",
       "      <th>n_bins</th>\n",
       "      <th>stat</th>\n",
       "      <th>p_value</th>\n",
       "    </tr>\n",
       "  </thead>\n",
       "  <tbody>\n",
       "    <tr>\n",
       "      <th>0</th>\n",
       "      <td>2</td>\n",
       "      <td>43.004907</td>\n",
       "      <td>5.460273e-11</td>\n",
       "    </tr>\n",
       "    <tr>\n",
       "      <th>1</th>\n",
       "      <td>3</td>\n",
       "      <td>84.376195</td>\n",
       "      <td>4.763675e-19</td>\n",
       "    </tr>\n",
       "    <tr>\n",
       "      <th>2</th>\n",
       "      <td>4</td>\n",
       "      <td>84.866987</td>\n",
       "      <td>2.771451e-18</td>\n",
       "    </tr>\n",
       "    <tr>\n",
       "      <th>3</th>\n",
       "      <td>5</td>\n",
       "      <td>92.860427</td>\n",
       "      <td>3.248401e-19</td>\n",
       "    </tr>\n",
       "    <tr>\n",
       "      <th>4</th>\n",
       "      <td>6</td>\n",
       "      <td>110.252893</td>\n",
       "      <td>3.622889e-22</td>\n",
       "    </tr>\n",
       "    <tr>\n",
       "      <th>5</th>\n",
       "      <td>7</td>\n",
       "      <td>100.210937</td>\n",
       "      <td>2.267475e-19</td>\n",
       "    </tr>\n",
       "    <tr>\n",
       "      <th>6</th>\n",
       "      <td>8</td>\n",
       "      <td>123.707036</td>\n",
       "      <td>1.293640e-23</td>\n",
       "    </tr>\n",
       "    <tr>\n",
       "      <th>7</th>\n",
       "      <td>9</td>\n",
       "      <td>140.622586</td>\n",
       "      <td>1.761066e-26</td>\n",
       "    </tr>\n",
       "    <tr>\n",
       "      <th>8</th>\n",
       "      <td>10</td>\n",
       "      <td>121.499977</td>\n",
       "      <td>6.587280e-22</td>\n",
       "    </tr>\n",
       "    <tr>\n",
       "      <th>9</th>\n",
       "      <td>11</td>\n",
       "      <td>120.021210</td>\n",
       "      <td>5.010147e-21</td>\n",
       "    </tr>\n",
       "  </tbody>\n",
       "</table>\n",
       "</div>"
      ],
      "text/plain": [
       "   n_bins        stat       p_value\n",
       "0       2   43.004907  5.460273e-11\n",
       "1       3   84.376195  4.763675e-19\n",
       "2       4   84.866987  2.771451e-18\n",
       "3       5   92.860427  3.248401e-19\n",
       "4       6  110.252893  3.622889e-22\n",
       "5       7  100.210937  2.267475e-19\n",
       "6       8  123.707036  1.293640e-23\n",
       "7       9  140.622586  1.761066e-26\n",
       "8      10  121.499977  6.587280e-22\n",
       "9      11  120.021210  5.010147e-21"
      ]
     },
     "execution_count": 37,
     "metadata": {},
     "output_type": "execute_result"
    }
   ],
   "source": [
    "dd = cutOptimizer(\"EstimatedSalary\", train)\n",
    "dd"
   ]
  },
  {
   "cell_type": "code",
   "execution_count": 18,
   "id": "4a295948-9040-433f-addf-0d8907fe59fb",
   "metadata": {},
   "outputs": [
    {
     "data": {
      "text/plain": [
       "0         (177772.38, 199992.48]\n",
       "1           (44451.78, 66671.88]\n",
       "2         (177772.38, 199992.48]\n",
       "3           (66671.88, 88891.98]\n",
       "4           (-188.401, 22231.68]\n",
       "                   ...          \n",
       "165029    (111112.08, 133332.18]\n",
       "165030    (111112.08, 133332.18]\n",
       "165031    (111112.08, 133332.18]\n",
       "165032      (66671.88, 88891.98]\n",
       "165033      (44451.78, 66671.88]\n",
       "Name: EstimatedSalary, Length: 165034, dtype: category\n",
       "Categories (9, interval[float64, right]): [(-188.401, 22231.68] < (22231.68, 44451.78] < (44451.78, 66671.88] < (66671.88, 88891.98] ... (111112.08, 133332.18] < (133332.18, 155552.28] < (155552.28, 177772.38] < (177772.38, 199992.48]]"
      ]
     },
     "execution_count": 18,
     "metadata": {},
     "output_type": "execute_result"
    }
   ],
   "source": [
    "# Optimize at bins == 9. Now, see the bins:\n",
    "r = pd.cut(train.EstimatedSalary, bins = 9)\n",
    "r"
   ]
  },
  {
   "cell_type": "code",
   "execution_count": 24,
   "id": "728921af-c30e-473a-85f1-2e7ecb3f6717",
   "metadata": {},
   "outputs": [
    {
     "data": {
      "text/plain": [
       "array([Interval(-188.401, 22231.68, closed='right'),\n",
       "       Interval(22231.68, 44451.78, closed='right'),\n",
       "       Interval(44451.78, 66671.88, closed='right'),\n",
       "       Interval(66671.88, 88891.98, closed='right'),\n",
       "       Interval(88891.98, 111112.08, closed='right'),\n",
       "       Interval(111112.08, 133332.18, closed='right'),\n",
       "       Interval(133332.18, 155552.28, closed='right'),\n",
       "       Interval(155552.28, 177772.38, closed='right'),\n",
       "       Interval(177772.38, 199992.48, closed='right')], dtype=object)"
      ]
     },
     "execution_count": 24,
     "metadata": {},
     "output_type": "execute_result"
    }
   ],
   "source": [
    "np.unique(r)"
   ]
  },
  {
   "cell_type": "code",
   "execution_count": 25,
   "id": "a4aab13f-7569-4b01-98ea-87cc5dd6f0d3",
   "metadata": {},
   "outputs": [],
   "source": [
    "# Optimized Transformer:\n",
    "class SalaryTransformer(BaseEstimator, TransformerMixin):\n",
    "    def __init__(self):\n",
    "        self.targetEncoder = TargetEncoder()\n",
    "        self.bins = [0,22231.68, 44451.78, 66671.88, 88891.98,111112.08, 133332.18,\n",
    "                     155552.28, 177772.38, 200000]\n",
    "    def fit(self, X, y):\n",
    "        a = pd.cut(X.EstimatedSalary, bins = self.bins)\n",
    "        b = np.array(a).reshape(-1,1)\n",
    "        self.targetEncoder.fit(b, y)\n",
    "        return self\n",
    "\n",
    "    def transform(self, X):\n",
    "        a = pd.cut(X.EstimatedSalary, bins = self.bins)\n",
    "        b = np.array(a).reshape(-1,1)\n",
    "        return self.targetEncoder.transform(b)\n",
    "        \n",
    "        "
   ]
  },
  {
   "cell_type": "code",
   "execution_count": 26,
   "id": "df514269-1bd3-42f3-a031-33a670e5aeab",
   "metadata": {},
   "outputs": [
    {
     "data": {
      "text/html": [
       "<style>#sk-container-id-1 {color: black;}#sk-container-id-1 pre{padding: 0;}#sk-container-id-1 div.sk-toggleable {background-color: white;}#sk-container-id-1 label.sk-toggleable__label {cursor: pointer;display: block;width: 100%;margin-bottom: 0;padding: 0.3em;box-sizing: border-box;text-align: center;}#sk-container-id-1 label.sk-toggleable__label-arrow:before {content: \"▸\";float: left;margin-right: 0.25em;color: #696969;}#sk-container-id-1 label.sk-toggleable__label-arrow:hover:before {color: black;}#sk-container-id-1 div.sk-estimator:hover label.sk-toggleable__label-arrow:before {color: black;}#sk-container-id-1 div.sk-toggleable__content {max-height: 0;max-width: 0;overflow: hidden;text-align: left;background-color: #f0f8ff;}#sk-container-id-1 div.sk-toggleable__content pre {margin: 0.2em;color: black;border-radius: 0.25em;background-color: #f0f8ff;}#sk-container-id-1 input.sk-toggleable__control:checked~div.sk-toggleable__content {max-height: 200px;max-width: 100%;overflow: auto;}#sk-container-id-1 input.sk-toggleable__control:checked~label.sk-toggleable__label-arrow:before {content: \"▾\";}#sk-container-id-1 div.sk-estimator input.sk-toggleable__control:checked~label.sk-toggleable__label {background-color: #d4ebff;}#sk-container-id-1 div.sk-label input.sk-toggleable__control:checked~label.sk-toggleable__label {background-color: #d4ebff;}#sk-container-id-1 input.sk-hidden--visually {border: 0;clip: rect(1px 1px 1px 1px);clip: rect(1px, 1px, 1px, 1px);height: 1px;margin: -1px;overflow: hidden;padding: 0;position: absolute;width: 1px;}#sk-container-id-1 div.sk-estimator {font-family: monospace;background-color: #f0f8ff;border: 1px dotted black;border-radius: 0.25em;box-sizing: border-box;margin-bottom: 0.5em;}#sk-container-id-1 div.sk-estimator:hover {background-color: #d4ebff;}#sk-container-id-1 div.sk-parallel-item::after {content: \"\";width: 100%;border-bottom: 1px solid gray;flex-grow: 1;}#sk-container-id-1 div.sk-label:hover label.sk-toggleable__label {background-color: #d4ebff;}#sk-container-id-1 div.sk-serial::before {content: \"\";position: absolute;border-left: 1px solid gray;box-sizing: border-box;top: 0;bottom: 0;left: 50%;z-index: 0;}#sk-container-id-1 div.sk-serial {display: flex;flex-direction: column;align-items: center;background-color: white;padding-right: 0.2em;padding-left: 0.2em;position: relative;}#sk-container-id-1 div.sk-item {position: relative;z-index: 1;}#sk-container-id-1 div.sk-parallel {display: flex;align-items: stretch;justify-content: center;background-color: white;position: relative;}#sk-container-id-1 div.sk-item::before, #sk-container-id-1 div.sk-parallel-item::before {content: \"\";position: absolute;border-left: 1px solid gray;box-sizing: border-box;top: 0;bottom: 0;left: 50%;z-index: -1;}#sk-container-id-1 div.sk-parallel-item {display: flex;flex-direction: column;z-index: 1;position: relative;background-color: white;}#sk-container-id-1 div.sk-parallel-item:first-child::after {align-self: flex-end;width: 50%;}#sk-container-id-1 div.sk-parallel-item:last-child::after {align-self: flex-start;width: 50%;}#sk-container-id-1 div.sk-parallel-item:only-child::after {width: 0;}#sk-container-id-1 div.sk-dashed-wrapped {border: 1px dashed gray;margin: 0 0.4em 0.5em 0.4em;box-sizing: border-box;padding-bottom: 0.4em;background-color: white;}#sk-container-id-1 div.sk-label label {font-family: monospace;font-weight: bold;display: inline-block;line-height: 1.2em;}#sk-container-id-1 div.sk-label-container {text-align: center;}#sk-container-id-1 div.sk-container {/* jupyter's `normalize.less` sets `[hidden] { display: none; }` but bootstrap.min.css set `[hidden] { display: none !important; }` so we also need the `!important` here to be able to override the default hidden behavior on the sphinx rendered scikit-learn.org. See: https://github.com/scikit-learn/scikit-learn/issues/21755 */display: inline-block !important;position: relative;}#sk-container-id-1 div.sk-text-repr-fallback {display: none;}</style><div id=\"sk-container-id-1\" class=\"sk-top-container\"><div class=\"sk-text-repr-fallback\"><pre>SalaryTransformer()</pre><b>In a Jupyter environment, please rerun this cell to show the HTML representation or trust the notebook. <br />On GitHub, the HTML representation is unable to render, please try loading this page with nbviewer.org.</b></div><div class=\"sk-container\" hidden><div class=\"sk-item\"><div class=\"sk-estimator sk-toggleable\"><input class=\"sk-toggleable__control sk-hidden--visually\" id=\"sk-estimator-id-1\" type=\"checkbox\" checked><label for=\"sk-estimator-id-1\" class=\"sk-toggleable__label sk-toggleable__label-arrow\">SalaryTransformer</label><div class=\"sk-toggleable__content\"><pre>SalaryTransformer()</pre></div></div></div></div></div>"
      ],
      "text/plain": [
       "SalaryTransformer()"
      ]
     },
     "execution_count": 26,
     "metadata": {},
     "output_type": "execute_result"
    }
   ],
   "source": [
    "a = SalaryTransformer()\n",
    "a.fit(train, train.Exited)"
   ]
  },
  {
   "cell_type": "code",
   "execution_count": 27,
   "id": "959e743d-f0b9-4c05-8102-dba5073b9ead",
   "metadata": {},
   "outputs": [
    {
     "data": {
      "text/plain": [
       "array([[0.22415706],\n",
       "       [0.21914357],\n",
       "       [0.22415706],\n",
       "       ...,\n",
       "       [0.20844261],\n",
       "       [0.19523046],\n",
       "       [0.21914357]])"
      ]
     },
     "execution_count": 27,
     "metadata": {},
     "output_type": "execute_result"
    }
   ],
   "source": [
    "a.transform(train)"
   ]
  },
  {
   "cell_type": "code",
   "execution_count": null,
   "id": "3db0d090-da9a-41d1-a1c3-a6c62a7ab6f7",
   "metadata": {},
   "outputs": [],
   "source": []
  }
 ],
 "metadata": {
  "kernelspec": {
   "display_name": "Python 3 (ipykernel)",
   "language": "python",
   "name": "python3"
  },
  "language_info": {
   "codemirror_mode": {
    "name": "ipython",
    "version": 3
   },
   "file_extension": ".py",
   "mimetype": "text/x-python",
   "name": "python",
   "nbconvert_exporter": "python",
   "pygments_lexer": "ipython3",
   "version": "3.11.7"
  }
 },
 "nbformat": 4,
 "nbformat_minor": 5
}
