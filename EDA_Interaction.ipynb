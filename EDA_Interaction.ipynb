{
 "cells": [
  {
   "cell_type": "code",
   "execution_count": 6,
   "id": "0cb5f995-7a02-411a-ab0a-1159ff68ebfc",
   "metadata": {},
   "outputs": [],
   "source": [
    "import pandas as pd\n",
    "import plotnine as gg \n",
    "import numpy as np\n",
    "import scipy.stats as st\n",
    "from sklearn.base import BaseEstimator, TransformerMixin\n",
    "from sklearn.preprocessing import OneHotEncoder, TargetEncoder, LabelEncoder\n",
    "from sklearn.impute import SimpleImputer\n",
    "\n",
    "from sklearn.ensemble import VotingClassifier\n",
    "import xgboost as xgb\n",
    "from catboost import CatBoostClassifier\n",
    "from lightgbm import LGBMClassifier\n",
    "\n",
    "import joblib\n",
    "from sklearn.cluster import KMeans\n",
    "\n",
    "\n",
    "from sklearn.metrics import roc_auc_score\n",
    "from sklearn.model_selection import cross_val_score, StratifiedShuffleSplit, RepeatedStratifiedKFold\n",
    "\n",
    "from preprocessing import *\n",
    "sedd = 11"
   ]
  },
  {
   "cell_type": "code",
   "execution_count": 7,
   "id": "9ed62569-b44d-488d-9e6c-1d5fbbb3595f",
   "metadata": {},
   "outputs": [],
   "source": [
    "train = pd.read_csv(\"train.csv\")\n",
    "train = train.drop_duplicates(keep = 'first').copy()\n",
    "train.reset_index(inplace = True)\n",
    "y = train.Exited.copy()\n",
    "X = train.drop('Exited', axis = 1).copy()\n",
    "test = pd.read_csv(\"test.csv\")"
   ]
  },
  {
   "cell_type": "code",
   "execution_count": 8,
   "id": "743142e7-8379-44f3-bd9c-ac47ffe5afab",
   "metadata": {},
   "outputs": [
    {
     "name": "stdout",
     "output_type": "stream",
     "text": [
      "<class 'pandas.core.frame.DataFrame'>\n",
      "RangeIndex: 165034 entries, 0 to 165033\n",
      "Data columns (total 15 columns):\n",
      " #   Column           Non-Null Count   Dtype  \n",
      "---  ------           --------------   -----  \n",
      " 0   index            165034 non-null  int64  \n",
      " 1   id               165034 non-null  int64  \n",
      " 2   CustomerId       165034 non-null  int64  \n",
      " 3   Surname          165034 non-null  object \n",
      " 4   CreditScore      165034 non-null  int64  \n",
      " 5   Geography        165034 non-null  object \n",
      " 6   Gender           165034 non-null  object \n",
      " 7   Age              165034 non-null  float64\n",
      " 8   Tenure           165034 non-null  int64  \n",
      " 9   Balance          165034 non-null  float64\n",
      " 10  NumOfProducts    165034 non-null  int64  \n",
      " 11  HasCrCard        165034 non-null  float64\n",
      " 12  IsActiveMember   165034 non-null  float64\n",
      " 13  EstimatedSalary  165034 non-null  float64\n",
      " 14  Exited           165034 non-null  int64  \n",
      "dtypes: float64(5), int64(7), object(3)\n",
      "memory usage: 18.9+ MB\n"
     ]
    }
   ],
   "source": [
    "train.info()"
   ]
  },
  {
   "cell_type": "code",
   "execution_count": 9,
   "id": "4ae0435f-7238-4dc6-bbf7-a26d93d3e5ff",
   "metadata": {},
   "outputs": [
    {
     "data": {
      "text/html": [
       "<div>\n",
       "<style scoped>\n",
       "    .dataframe tbody tr th:only-of-type {\n",
       "        vertical-align: middle;\n",
       "    }\n",
       "\n",
       "    .dataframe tbody tr th {\n",
       "        vertical-align: top;\n",
       "    }\n",
       "\n",
       "    .dataframe thead th {\n",
       "        text-align: right;\n",
       "    }\n",
       "</style>\n",
       "<table border=\"1\" class=\"dataframe\">\n",
       "  <thead>\n",
       "    <tr style=\"text-align: right;\">\n",
       "      <th></th>\n",
       "      <th>index</th>\n",
       "      <th>id</th>\n",
       "      <th>CustomerId</th>\n",
       "      <th>Surname</th>\n",
       "      <th>CreditScore</th>\n",
       "      <th>Geography</th>\n",
       "      <th>Gender</th>\n",
       "      <th>Age</th>\n",
       "      <th>Tenure</th>\n",
       "      <th>Balance</th>\n",
       "      <th>NumOfProducts</th>\n",
       "      <th>HasCrCard</th>\n",
       "      <th>IsActiveMember</th>\n",
       "      <th>EstimatedSalary</th>\n",
       "      <th>Exited</th>\n",
       "    </tr>\n",
       "  </thead>\n",
       "  <tbody>\n",
       "    <tr>\n",
       "      <th>0</th>\n",
       "      <td>0</td>\n",
       "      <td>0</td>\n",
       "      <td>15674932</td>\n",
       "      <td>Okwudilichukwu</td>\n",
       "      <td>668</td>\n",
       "      <td>France</td>\n",
       "      <td>Male</td>\n",
       "      <td>33.0</td>\n",
       "      <td>3</td>\n",
       "      <td>0.0</td>\n",
       "      <td>2</td>\n",
       "      <td>1.0</td>\n",
       "      <td>0.0</td>\n",
       "      <td>181449.97</td>\n",
       "      <td>0</td>\n",
       "    </tr>\n",
       "    <tr>\n",
       "      <th>1</th>\n",
       "      <td>1</td>\n",
       "      <td>1</td>\n",
       "      <td>15749177</td>\n",
       "      <td>Okwudiliolisa</td>\n",
       "      <td>627</td>\n",
       "      <td>France</td>\n",
       "      <td>Male</td>\n",
       "      <td>33.0</td>\n",
       "      <td>1</td>\n",
       "      <td>0.0</td>\n",
       "      <td>2</td>\n",
       "      <td>1.0</td>\n",
       "      <td>1.0</td>\n",
       "      <td>49503.50</td>\n",
       "      <td>0</td>\n",
       "    </tr>\n",
       "    <tr>\n",
       "      <th>2</th>\n",
       "      <td>2</td>\n",
       "      <td>2</td>\n",
       "      <td>15694510</td>\n",
       "      <td>Hsueh</td>\n",
       "      <td>678</td>\n",
       "      <td>France</td>\n",
       "      <td>Male</td>\n",
       "      <td>40.0</td>\n",
       "      <td>10</td>\n",
       "      <td>0.0</td>\n",
       "      <td>2</td>\n",
       "      <td>1.0</td>\n",
       "      <td>0.0</td>\n",
       "      <td>184866.69</td>\n",
       "      <td>0</td>\n",
       "    </tr>\n",
       "  </tbody>\n",
       "</table>\n",
       "</div>"
      ],
      "text/plain": [
       "   index  id  CustomerId         Surname  CreditScore Geography Gender   Age  \\\n",
       "0      0   0    15674932  Okwudilichukwu          668    France   Male  33.0   \n",
       "1      1   1    15749177   Okwudiliolisa          627    France   Male  33.0   \n",
       "2      2   2    15694510           Hsueh          678    France   Male  40.0   \n",
       "\n",
       "   Tenure  Balance  NumOfProducts  HasCrCard  IsActiveMember  EstimatedSalary  \\\n",
       "0       3      0.0              2        1.0             0.0        181449.97   \n",
       "1       1      0.0              2        1.0             1.0         49503.50   \n",
       "2      10      0.0              2        1.0             0.0        184866.69   \n",
       "\n",
       "   Exited  \n",
       "0       0  \n",
       "1       0  \n",
       "2       0  "
      ]
     },
     "execution_count": 9,
     "metadata": {},
     "output_type": "execute_result"
    }
   ],
   "source": [
    "train.head(3)"
   ]
  },
  {
   "cell_type": "code",
   "execution_count": 5,
   "id": "159f2d7d-f1c2-4f56-be90-e97d0352c3bb",
   "metadata": {},
   "outputs": [],
   "source": [
    "notes = {} "
   ]
  },
  {
   "cell_type": "code",
   "execution_count": 62,
   "id": "7f17599f-4ca1-458b-86fa-3bc6f92f3c38",
   "metadata": {},
   "outputs": [],
   "source": [
    "# Age vs Geography\n",
    "tt = train.copy()\n",
    "one_k = KMeans(n_clusters = 4, n_init = 10)\n",
    "one_geo = LabelEncoder() \n",
    "one_gender = LabelEncoder() \n",
    "one_scale = StandardScaler()\n",
    "tt.Geography = one_geo.fit_transform(tt.Geography)\n",
    "tt.Gender = one_gender.fit_transform(tt.Gender) \n",
    "tt.Age = np.log(tt.Age)\n",
    "output = one_scale.fit_transform(tt[['Geography', 'Gender', 'Age']])\n",
    "\n",
    "output2 = one_k.fit_predict(output)"
   ]
  },
  {
   "cell_type": "code",
   "execution_count": 63,
   "id": "92dbe0ca-8f19-4c53-a511-295b115b2152",
   "metadata": {},
   "outputs": [],
   "source": [
    "output3 = pd.DataFrame({'cluster':output2, 'Exited': y})"
   ]
  },
  {
   "cell_type": "code",
   "execution_count": 64,
   "id": "8585c2ce-6aa3-430d-8263-e4af36e7b3c2",
   "metadata": {},
   "outputs": [
    {
     "data": {
      "text/html": [
       "<div>\n",
       "<style scoped>\n",
       "    .dataframe tbody tr th:only-of-type {\n",
       "        vertical-align: middle;\n",
       "    }\n",
       "\n",
       "    .dataframe tbody tr th {\n",
       "        vertical-align: top;\n",
       "    }\n",
       "\n",
       "    .dataframe thead th {\n",
       "        text-align: right;\n",
       "    }\n",
       "</style>\n",
       "<table border=\"1\" class=\"dataframe\">\n",
       "  <thead>\n",
       "    <tr style=\"text-align: right;\">\n",
       "      <th>Exited</th>\n",
       "      <th>0</th>\n",
       "      <th>1</th>\n",
       "    </tr>\n",
       "    <tr>\n",
       "      <th>cluster</th>\n",
       "      <th></th>\n",
       "      <th></th>\n",
       "    </tr>\n",
       "  </thead>\n",
       "  <tbody>\n",
       "    <tr>\n",
       "      <th>0</th>\n",
       "      <td>30665</td>\n",
       "      <td>8246</td>\n",
       "    </tr>\n",
       "    <tr>\n",
       "      <th>1</th>\n",
       "      <td>30974</td>\n",
       "      <td>9002</td>\n",
       "    </tr>\n",
       "    <tr>\n",
       "      <th>2</th>\n",
       "      <td>20805</td>\n",
       "      <td>11103</td>\n",
       "    </tr>\n",
       "    <tr>\n",
       "      <th>3</th>\n",
       "      <td>47669</td>\n",
       "      <td>6570</td>\n",
       "    </tr>\n",
       "  </tbody>\n",
       "</table>\n",
       "</div>"
      ],
      "text/plain": [
       "Exited       0      1\n",
       "cluster              \n",
       "0        30665   8246\n",
       "1        30974   9002\n",
       "2        20805  11103\n",
       "3        47669   6570"
      ]
     },
     "execution_count": 64,
     "metadata": {},
     "output_type": "execute_result"
    }
   ],
   "source": [
    "pd.crosstab(output3.cluster, output3.Exited)"
   ]
  },
  {
   "cell_type": "code",
   "execution_count": 48,
   "id": "155e395e-e668-4598-8307-8b11de7cd466",
   "metadata": {},
   "outputs": [],
   "source": [
    "class InteractionTransformer(BaseEstimator, TransformerMixin):\n",
    "    def fit(self, X, y=None):\n",
    "        return self\n",
    "\n",
    "    def transform(self, X):\n",
    "        feat_1 = X.IsActiveMember * X.HasCrCard * tt.Tenure\n",
    "        return np.array(feat_1).reshape(-1,1)"
   ]
  },
  {
   "cell_type": "code",
   "execution_count": 49,
   "id": "b0e5c5d1-b453-4521-9ea6-7ef5edc87154",
   "metadata": {},
   "outputs": [
    {
     "data": {
      "text/plain": [
       "array([[0.],\n",
       "       [1.],\n",
       "       [0.],\n",
       "       ...,\n",
       "       [5.],\n",
       "       [0.],\n",
       "       [0.]])"
      ]
     },
     "execution_count": 49,
     "metadata": {},
     "output_type": "execute_result"
    }
   ],
   "source": [
    "InteractionTransformer().fit_transform(X)"
   ]
  },
  {
   "cell_type": "code",
   "execution_count": null,
   "id": "df6bc318-aa15-4d86-9e1c-1bab81be4d24",
   "metadata": {},
   "outputs": [],
   "source": []
  }
 ],
 "metadata": {
  "kernelspec": {
   "display_name": "Python 3 (ipykernel)",
   "language": "python",
   "name": "python3"
  },
  "language_info": {
   "codemirror_mode": {
    "name": "ipython",
    "version": 3
   },
   "file_extension": ".py",
   "mimetype": "text/x-python",
   "name": "python",
   "nbconvert_exporter": "python",
   "pygments_lexer": "ipython3",
   "version": "3.11.7"
  }
 },
 "nbformat": 4,
 "nbformat_minor": 5
}
